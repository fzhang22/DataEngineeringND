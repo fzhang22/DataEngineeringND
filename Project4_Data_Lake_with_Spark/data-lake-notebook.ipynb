{
 "cells": [
  {
   "cell_type": "code",
   "execution_count": 1,
   "metadata": {},
   "outputs": [
    {
     "data": {
      "application/vnd.jupyter.widget-view+json": {
       "model_id": "85544f43ff284a67858e4f5c5bd9c309",
       "version_major": 2,
       "version_minor": 0
      },
      "text/plain": [
       "VBox()"
      ]
     },
     "metadata": {},
     "output_type": "display_data"
    },
    {
     "name": "stdout",
     "output_type": "stream",
     "text": [
      "Starting Spark application\n"
     ]
    },
    {
     "data": {
      "text/html": [
       "<table>\n",
       "<tr><th>ID</th><th>YARN Application ID</th><th>Kind</th><th>State</th><th>Spark UI</th><th>Driver log</th><th>Current session?</th></tr><tr><td>2</td><td>application_1570038823663_0003</td><td>pyspark</td><td>idle</td><td><a target=\"_blank\" href=\"http://ip-172-31-60-54.us-west-2.compute.internal:20888/proxy/application_1570038823663_0003/\">Link</a></td><td><a target=\"_blank\" href=\"http://ip-172-31-53-1.us-west-2.compute.internal:8042/node/containerlogs/container_1570038823663_0003_01_000001/livy\">Link</a></td><td>✔</td></tr></table>"
      ],
      "text/plain": [
       "<IPython.core.display.HTML object>"
      ]
     },
     "metadata": {},
     "output_type": "display_data"
    },
    {
     "data": {
      "application/vnd.jupyter.widget-view+json": {
       "model_id": "",
       "version_major": 2,
       "version_minor": 0
      },
      "text/plain": [
       "FloatProgress(value=0.0, bar_style='info', description='Progress:', layout=Layout(height='25px', width='50%'),…"
      ]
     },
     "metadata": {},
     "output_type": "display_data"
    },
    {
     "name": "stdout",
     "output_type": "stream",
     "text": [
      "SparkSession available as 'spark'.\n"
     ]
    },
    {
     "data": {
      "application/vnd.jupyter.widget-view+json": {
       "model_id": "",
       "version_major": 2,
       "version_minor": 0
      },
      "text/plain": [
       "FloatProgress(value=0.0, bar_style='info', description='Progress:', layout=Layout(height='25px', width='50%'),…"
      ]
     },
     "metadata": {},
     "output_type": "display_data"
    }
   ],
   "source": [
    "import configparser\n",
    "from datetime import datetime\n",
    "import os\n",
    "from os import *\n",
    "from pyspark.sql import SparkSession\n",
    "from pyspark.sql.functions import *\n",
    "from pyspark.sql.types import TimestampType\n"
   ]
  },
  {
   "cell_type": "code",
   "execution_count": 2,
   "metadata": {},
   "outputs": [
    {
     "data": {
      "application/vnd.jupyter.widget-view+json": {
       "model_id": "8879e14c468c481b8e165638e56f825a",
       "version_major": 2,
       "version_minor": 0
      },
      "text/plain": [
       "VBox()"
      ]
     },
     "metadata": {},
     "output_type": "display_data"
    },
    {
     "data": {
      "application/vnd.jupyter.widget-view+json": {
       "model_id": "",
       "version_major": 2,
       "version_minor": 0
      },
      "text/plain": [
       "FloatProgress(value=0.0, bar_style='info', description='Progress:', layout=Layout(height='25px', width='50%'),…"
      ]
     },
     "metadata": {},
     "output_type": "display_data"
    }
   ],
   "source": [
    "# initialize a spark session\n",
    "spark = SparkSession \\\n",
    "    .builder \\\n",
    "    .config(\"spark.jars.packages\", \"org.apache.hadoop:hadoop-aws:2.7.0\") \\\n",
    "    .getOrCreate()"
   ]
  },
  {
   "cell_type": "code",
   "execution_count": 3,
   "metadata": {},
   "outputs": [
    {
     "data": {
      "application/vnd.jupyter.widget-view+json": {
       "model_id": "93b87d6bb3064424b08de8bb66f11495",
       "version_major": 2,
       "version_minor": 0
      },
      "text/plain": [
       "VBox()"
      ]
     },
     "metadata": {},
     "output_type": "display_data"
    },
    {
     "data": {
      "application/vnd.jupyter.widget-view+json": {
       "model_id": "",
       "version_major": 2,
       "version_minor": 0
      },
      "text/plain": [
       "FloatProgress(value=0.0, bar_style='info', description='Progress:', layout=Layout(height='25px', width='50%'),…"
      ]
     },
     "metadata": {},
     "output_type": "display_data"
    }
   ],
   "source": [
    "# get filepath to all json file of song_data in S3 bucket\n",
    "song_data = \"s3a://udacity-dend/song_data/A/B/C/*.json\"\n",
    "df = spark.read.json(song_data)"
   ]
  },
  {
   "cell_type": "code",
   "execution_count": 4,
   "metadata": {},
   "outputs": [
    {
     "data": {
      "application/vnd.jupyter.widget-view+json": {
       "model_id": "0575d47ec9744dd0816eb111fd0e2743",
       "version_major": 2,
       "version_minor": 0
      },
      "text/plain": [
       "VBox()"
      ]
     },
     "metadata": {},
     "output_type": "display_data"
    },
    {
     "data": {
      "application/vnd.jupyter.widget-view+json": {
       "model_id": "",
       "version_major": 2,
       "version_minor": 0
      },
      "text/plain": [
       "FloatProgress(value=0.0, bar_style='info', description='Progress:', layout=Layout(height='25px', width='50%'),…"
      ]
     },
     "metadata": {},
     "output_type": "display_data"
    },
    {
     "name": "stdout",
     "output_type": "stream",
     "text": [
      "---------- Print out the schema of song dataset in tree format: ----------\n",
      "root\n",
      " |-- artist_id: string (nullable = true)\n",
      " |-- artist_latitude: double (nullable = true)\n",
      " |-- artist_location: string (nullable = true)\n",
      " |-- artist_longitude: double (nullable = true)\n",
      " |-- artist_name: string (nullable = true)\n",
      " |-- duration: double (nullable = true)\n",
      " |-- num_songs: long (nullable = true)\n",
      " |-- song_id: string (nullable = true)\n",
      " |-- title: string (nullable = true)\n",
      " |-- year: long (nullable = true)"
     ]
    }
   ],
   "source": [
    "# print out the schema in tree format\n",
    "print(\"---------- Print out the schema of song dataset in tree format: ----------\")\n",
    "df.printSchema()"
   ]
  },
  {
   "cell_type": "code",
   "execution_count": 5,
   "metadata": {},
   "outputs": [
    {
     "data": {
      "application/vnd.jupyter.widget-view+json": {
       "model_id": "d60751085e5443de9166702c32130fd3",
       "version_major": 2,
       "version_minor": 0
      },
      "text/plain": [
       "VBox()"
      ]
     },
     "metadata": {},
     "output_type": "display_data"
    },
    {
     "data": {
      "application/vnd.jupyter.widget-view+json": {
       "model_id": "",
       "version_major": 2,
       "version_minor": 0
      },
      "text/plain": [
       "FloatProgress(value=0.0, bar_style='info', description='Progress:', layout=Layout(height='25px', width='50%'),…"
      ]
     },
     "metadata": {},
     "output_type": "display_data"
    },
    {
     "name": "stdout",
     "output_type": "stream",
     "text": [
      " ---------- Show first 10 rows of songs table ----------\n",
      "+------------------+--------------------+------------------+----+---------+\n",
      "|           song_id|               title|         artist_id|year| duration|\n",
      "+------------------+--------------------+------------------+----+---------+\n",
      "|SODREIN12A58A7F2E5|A Whiter Shade Of...|ARLTWXK1187FB5A3F8|   0|326.00771|\n",
      "|SOCEMJV12A6D4F7667|Giant Steps (Alte...|ARIOZCU1187FB3A3DC|   0|220.44689|\n",
      "|SOWQTQZ12A58A7B63E|Streets On Fire (...|ARPFHN61187FB575F6|   0|279.97995|\n",
      "|SOMAPYF12A6D4FEC3E|All Day & All Of ...|AR5S9OB1187B9931E3|   0|156.62975|\n",
      "|SOAPVNX12AB0187625|I Remember Nights...|AR5T40Y1187B9996C6|1998| 249.3122|\n",
      "|SOFIUVJ12A8C13C296|Will You Tell Me ...|AR9OEB71187B9A97C6|2005|397.16526|\n",
      "|SOBHXUU12A6D4F5F14|National Emblem (...|ARBDJHO1252CCFA6FC|   0|188.73424|\n",
      "|SOQFYBD12AB0182188|               Intro|ARAADXM1187FB3ECDB|1999| 67.63057|\n",
      "|SOYLILV12A8C136650|                 XXX|ARZJDBC1187FB52056|1984|327.00036|\n",
      "|SOHTCZS12A6D4FC402|  The Christmas Song|AROSPS51187B9B481F|1965|197.95546|\n",
      "+------------------+--------------------+------------------+----+---------+\n",
      "only showing top 10 rows"
     ]
    }
   ],
   "source": [
    "# extract columns to create songs table\n",
    "# songs table attributes: song_id, title, artist_id, year, duration\n",
    "songs_table = df.select(\"song_id\", \"title\", \"artist_id\", \"year\", \"duration\")\n",
    "# show first 10 rows in songs_table\n",
    "print(\" ---------- Show first 10 rows of songs table ----------\")\n",
    "songs_table.show(10)"
   ]
  },
  {
   "cell_type": "code",
   "execution_count": 6,
   "metadata": {},
   "outputs": [
    {
     "data": {
      "application/vnd.jupyter.widget-view+json": {
       "model_id": "fdb1070367754e8d825b931337c95df1",
       "version_major": 2,
       "version_minor": 0
      },
      "text/plain": [
       "VBox()"
      ]
     },
     "metadata": {},
     "output_type": "display_data"
    },
    {
     "data": {
      "application/vnd.jupyter.widget-view+json": {
       "model_id": "",
       "version_major": 2,
       "version_minor": 0
      },
      "text/plain": [
       "FloatProgress(value=0.0, bar_style='info', description='Progress:', layout=Layout(height='25px', width='50%'),…"
      ]
     },
     "metadata": {},
     "output_type": "display_data"
    }
   ],
   "source": [
    "# write songs table to parquet files partitioned by year and artist\n",
    "out_path_songs = \"s3a://fzhang22-data-lake/parquet_files/notebook/songs_table.parquet\"\n",
    "# if path.exists(out_path_songs):\n",
    "songs_table.write.parquet(path = out_path_songs, \n",
    "                          partitionBy = (\"year\", \"artist_id\"),\n",
    "                          mode = \"overwrite\")\n",
    "# else:\n",
    "#     songs_table.write.parquet(path = out_path_songs, \n",
    "#                               partitionBy = (\"year\", \"artist_id\"),\n",
    "#                               mode = \"append\")\n",
    "    "
   ]
  },
  {
   "cell_type": "code",
   "execution_count": 7,
   "metadata": {},
   "outputs": [
    {
     "data": {
      "application/vnd.jupyter.widget-view+json": {
       "model_id": "93c591e94bb94f6484a9a1d791fc95bc",
       "version_major": 2,
       "version_minor": 0
      },
      "text/plain": [
       "VBox()"
      ]
     },
     "metadata": {},
     "output_type": "display_data"
    },
    {
     "data": {
      "application/vnd.jupyter.widget-view+json": {
       "model_id": "",
       "version_major": 2,
       "version_minor": 0
      },
      "text/plain": [
       "FloatProgress(value=0.0, bar_style='info', description='Progress:', layout=Layout(height='25px', width='50%'),…"
      ]
     },
     "metadata": {},
     "output_type": "display_data"
    },
    {
     "name": "stdout",
     "output_type": "stream",
     "text": [
      " ---------- Show first 10 rows of artists table ----------\n",
      "+------------------+--------------------+--------------------+---------------+----------------+\n",
      "|         artist_id|         artist_name|     artist_location|artist_latitude|artist_longitude|\n",
      "+------------------+--------------------+--------------------+---------------+----------------+\n",
      "|ARLTWXK1187FB5A3F8|         King Curtis|      Fort Worth, TX|       32.74863|       -97.32925|\n",
      "|ARIOZCU1187FB3A3DC|       JOHN COLTRANE|          Hamlet, NC|           null|            null|\n",
      "|ARPFHN61187FB575F6|         Lupe Fiasco|         Chicago, IL|       41.88415|       -87.63241|\n",
      "|AR5S9OB1187B9931E3|         Bullet Boys|     Los Angeles, CA|       34.05349|      -118.24532|\n",
      "|AR5T40Y1187B9996C6|    The Bear Quartet|       Lulea, Sweden|           null|            null|\n",
      "|AR9OEB71187B9A97C6|              Faunts|Edmonton, Alberta...|           null|            null|\n",
      "|ARBDJHO1252CCFA6FC|The Band of HM Ro...|                    |           null|            null|\n",
      "|ARAADXM1187FB3ECDB|    Styles Of Beyond|  Woodland Hills, CA|        34.1688|      -118.61092|\n",
      "|ARZJDBC1187FB52056|        Nasty Savage|    Brandon, Florida|       27.94017|       -82.32547|\n",
      "|AROSPS51187B9B481F| Vince Guaraldi Trio|                    |           null|            null|\n",
      "+------------------+--------------------+--------------------+---------------+----------------+\n",
      "only showing top 10 rows"
     ]
    }
   ],
   "source": [
    "# extract columns to create artists table\n",
    "# artists table attributes: artist_id, name, location, lattitude, longitude\n",
    "artists_table = df.select(\"artist_id\", \"artist_name\", \"artist_location\", \n",
    "                          \"artist_latitude\", \"artist_longitude\")\n",
    "# show first 10 rows in artists_table\n",
    "print(\" ---------- Show first 10 rows of artists table ----------\")\n",
    "artists_table.show(10)"
   ]
  },
  {
   "cell_type": "code",
   "execution_count": 9,
   "metadata": {},
   "outputs": [
    {
     "data": {
      "application/vnd.jupyter.widget-view+json": {
       "model_id": "6a1b1a77c6274fccbaeb4a6fe12d6cc8",
       "version_major": 2,
       "version_minor": 0
      },
      "text/plain": [
       "VBox()"
      ]
     },
     "metadata": {},
     "output_type": "display_data"
    },
    {
     "data": {
      "application/vnd.jupyter.widget-view+json": {
       "model_id": "",
       "version_major": 2,
       "version_minor": 0
      },
      "text/plain": [
       "FloatProgress(value=0.0, bar_style='info', description='Progress:', layout=Layout(height='25px', width='50%'),…"
      ]
     },
     "metadata": {},
     "output_type": "display_data"
    },
    {
     "name": "stdout",
     "output_type": "stream",
     "text": [
      " ---------- Show first 10 rows of artists table parquet file ----------\n",
      "+------------------+--------------------+--------------------+---------------+----------------+\n",
      "|         artist_id|         artist_name|     artist_location|artist_latitude|artist_longitude|\n",
      "+------------------+--------------------+--------------------+---------------+----------------+\n",
      "|ARAADXM1187FB3ECDB|    Styles Of Beyond|  Woodland Hills, CA|        34.1688|      -118.61092|\n",
      "|ARZJDBC1187FB52056|        Nasty Savage|    Brandon, Florida|       27.94017|       -82.32547|\n",
      "|AR5S9OB1187B9931E3|         Bullet Boys|     Los Angeles, CA|       34.05349|      -118.24532|\n",
      "|ARLTWXK1187FB5A3F8|         King Curtis|      Fort Worth, TX|       32.74863|       -97.32925|\n",
      "|ARPFHN61187FB575F6|         Lupe Fiasco|         Chicago, IL|       41.88415|       -87.63241|\n",
      "|AR0IAWL1187B9A96D0|        Danilo Perez|              Panama|         8.4177|       -80.11278|\n",
      "|AR9OEB71187B9A97C6|              Faunts|Edmonton, Alberta...|           null|            null|\n",
      "|AR5T40Y1187B9996C6|    The Bear Quartet|       Lulea, Sweden|           null|            null|\n",
      "|ARBDJHO1252CCFA6FC|The Band of HM Ro...|                    |           null|            null|\n",
      "|ARWB3G61187FB49404|         Steve Morse|      Hamilton, Ohio|           null|            null|\n",
      "+------------------+--------------------+--------------------+---------------+----------------+\n",
      "only showing top 10 rows"
     ]
    }
   ],
   "source": [
    "# write artists table to parquet files\n",
    "out_path_artists = \"s3a://fzhang22-data-lake/parquet_files/notebook/artists_table.parquet\"\n",
    "artists_table.write.parquet(path = out_path_artists, mode = \"overwrite\")\n",
    "\n",
    "# read parquet file and check the first 10 rows of partitioned parquet dataframes\n",
    "df_artists_parquet = spark.read.parquet(\"s3a://fzhang22-data-lake/parquet_files/notebook/artists_table.parquet\")\n",
    "print(\" ---------- Show first 10 rows of artists table parquet file ----------\")\n",
    "df_artists_parquet.show(10)"
   ]
  },
  {
   "cell_type": "code",
   "execution_count": 10,
   "metadata": {},
   "outputs": [
    {
     "data": {
      "application/vnd.jupyter.widget-view+json": {
       "model_id": "36be8eec12184f00973b66e4d93f1097",
       "version_major": 2,
       "version_minor": 0
      },
      "text/plain": [
       "VBox()"
      ]
     },
     "metadata": {},
     "output_type": "display_data"
    },
    {
     "data": {
      "application/vnd.jupyter.widget-view+json": {
       "model_id": "",
       "version_major": 2,
       "version_minor": 0
      },
      "text/plain": [
       "FloatProgress(value=0.0, bar_style='info', description='Progress:', layout=Layout(height='25px', width='50%'),…"
      ]
     },
     "metadata": {},
     "output_type": "display_data"
    },
    {
     "name": "stdout",
     "output_type": "stream",
     "text": [
      "---------- Print out the schema of log dataset in tree format: ----------\n",
      "root\n",
      " |-- artist: string (nullable = true)\n",
      " |-- auth: string (nullable = true)\n",
      " |-- firstName: string (nullable = true)\n",
      " |-- gender: string (nullable = true)\n",
      " |-- itemInSession: long (nullable = true)\n",
      " |-- lastName: string (nullable = true)\n",
      " |-- length: double (nullable = true)\n",
      " |-- level: string (nullable = true)\n",
      " |-- location: string (nullable = true)\n",
      " |-- method: string (nullable = true)\n",
      " |-- page: string (nullable = true)\n",
      " |-- registration: double (nullable = true)\n",
      " |-- sessionId: long (nullable = true)\n",
      " |-- song: string (nullable = true)\n",
      " |-- status: long (nullable = true)\n",
      " |-- ts: long (nullable = true)\n",
      " |-- userAgent: string (nullable = true)\n",
      " |-- userId: string (nullable = true)"
     ]
    }
   ],
   "source": [
    "log_data = \"s3a://udacity-dend/log_data/2018/11/*.json\"\n",
    "\n",
    "# read log data file\n",
    "df = spark.read.json(log_data)\n",
    "\n",
    "# print out the schema in tree format\n",
    "print(\"---------- Print out the schema of log dataset in tree format: ----------\")\n",
    "df.printSchema()\n",
    "\n",
    "# filter by actions for song plays\n",
    "df = df.filter(df.page == \"NextSong\")"
   ]
  },
  {
   "cell_type": "code",
   "execution_count": 11,
   "metadata": {},
   "outputs": [
    {
     "data": {
      "application/vnd.jupyter.widget-view+json": {
       "model_id": "73c4daf1d1944e019175c0ab9a24e3ec",
       "version_major": 2,
       "version_minor": 0
      },
      "text/plain": [
       "VBox()"
      ]
     },
     "metadata": {},
     "output_type": "display_data"
    },
    {
     "data": {
      "application/vnd.jupyter.widget-view+json": {
       "model_id": "",
       "version_major": 2,
       "version_minor": 0
      },
      "text/plain": [
       "FloatProgress(value=0.0, bar_style='info', description='Progress:', layout=Layout(height='25px', width='50%'),…"
      ]
     },
     "metadata": {},
     "output_type": "display_data"
    },
    {
     "name": "stdout",
     "output_type": "stream",
     "text": [
      " ---------- Show first 10 rows of users table ----------\n",
      "+------+---------+--------+------+-----+\n",
      "|userId|firstName|lastName|gender|level|\n",
      "+------+---------+--------+------+-----+\n",
      "|    57|Katherine|     Gay|     F| free|\n",
      "|    84|  Shakira|    Hunt|     F| free|\n",
      "|    22|     Sean|  Wilson|     F| free|\n",
      "|    52| Theodore|   Smith|     M| free|\n",
      "|    80|    Tegan|  Levine|     F| paid|\n",
      "|    15|     Lily|    Koch|     F| paid|\n",
      "|    37|   Jordan|   Hicks|     F| free|\n",
      "|    98|   Jordyn|  Powell|     F| free|\n",
      "|    48|   Marina|  Sutton|     F| free|\n",
      "|    17| Makinley|   Jones|     F| free|\n",
      "+------+---------+--------+------+-----+\n",
      "only showing top 10 rows"
     ]
    }
   ],
   "source": [
    "# extract columns for users table   \n",
    "# users attributes: user_id, first_name, last_name, gender, level\n",
    "users_table = df.select(\"userId\", \"firstName\", \"lastName\", \"gender\", \"level\").distinct()\n",
    "\n",
    "# show first 10 rows in users table\n",
    "print(\" ---------- Show first 10 rows of users table ----------\")\n",
    "users_table.show(10)"
   ]
  },
  {
   "cell_type": "code",
   "execution_count": 12,
   "metadata": {},
   "outputs": [
    {
     "data": {
      "application/vnd.jupyter.widget-view+json": {
       "model_id": "28bb311a8119440d914113fd5bf7642b",
       "version_major": 2,
       "version_minor": 0
      },
      "text/plain": [
       "VBox()"
      ]
     },
     "metadata": {},
     "output_type": "display_data"
    },
    {
     "data": {
      "application/vnd.jupyter.widget-view+json": {
       "model_id": "",
       "version_major": 2,
       "version_minor": 0
      },
      "text/plain": [
       "FloatProgress(value=0.0, bar_style='info', description='Progress:', layout=Layout(height='25px', width='50%'),…"
      ]
     },
     "metadata": {},
     "output_type": "display_data"
    }
   ],
   "source": [
    "# write users table to parquet files\n",
    "output_data_users = \"s3a://fzhang22-data-lake/parquet_files/notebook/users_table.parquet\"\n",
    "# if path.exists(output_data_users):\n",
    "users_table.write.parquet(path = output_data_users, mode = \"overwrite\")\n",
    "# else:\n",
    "#     users_table.write.parquet(path = output_data_users, \n",
    "#                               mode = \"append\")"
   ]
  },
  {
   "cell_type": "code",
   "execution_count": 13,
   "metadata": {},
   "outputs": [
    {
     "data": {
      "application/vnd.jupyter.widget-view+json": {
       "model_id": "fd47bd64db7e457988aa3a819969d484",
       "version_major": 2,
       "version_minor": 0
      },
      "text/plain": [
       "VBox()"
      ]
     },
     "metadata": {},
     "output_type": "display_data"
    },
    {
     "data": {
      "application/vnd.jupyter.widget-view+json": {
       "model_id": "",
       "version_major": 2,
       "version_minor": 0
      },
      "text/plain": [
       "FloatProgress(value=0.0, bar_style='info', description='Progress:', layout=Layout(height='25px', width='50%'),…"
      ]
     },
     "metadata": {},
     "output_type": "display_data"
    },
    {
     "name": "stdout",
     "output_type": "stream",
     "text": [
      " ---------- Show first 10 rows of users table parquet file ----------\n",
      "+------+----------+---------+------+-----+\n",
      "|userId| firstName| lastName|gender|level|\n",
      "+------+----------+---------+------+-----+\n",
      "|    88|  Mohammad|Rodriguez|     M| paid|\n",
      "|    88|  Mohammad|Rodriguez|     M| free|\n",
      "|    68|    Jordan|Rodriguez|     F| free|\n",
      "|    29|Jacqueline|    Lynch|     F| free|\n",
      "|    11| Christian|   Porter|     F| free|\n",
      "|    53|   Celeste| Williams|     F| free|\n",
      "|    69|  Anabelle|  Simpson|     F| free|\n",
      "|    75|    Joseph|Gutierrez|     M| free|\n",
      "|    40|    Tucker| Garrison|     M| free|\n",
      "|     2|   Jizelle| Benjamin|     F| free|\n",
      "+------+----------+---------+------+-----+\n",
      "only showing top 10 rows"
     ]
    }
   ],
   "source": [
    "# read parquet file and check the first 10 rows of partitioned parquet dataframes\n",
    "df_users_parquet = spark.read.parquet(output_data_users)\n",
    "print(\" ---------- Show first 10 rows of users table parquet file ----------\")\n",
    "df_users_parquet.show(10)"
   ]
  },
  {
   "cell_type": "code",
   "execution_count": 14,
   "metadata": {},
   "outputs": [
    {
     "data": {
      "application/vnd.jupyter.widget-view+json": {
       "model_id": "3c437cc8ced04f8d921eff88a7df80ce",
       "version_major": 2,
       "version_minor": 0
      },
      "text/plain": [
       "VBox()"
      ]
     },
     "metadata": {},
     "output_type": "display_data"
    },
    {
     "data": {
      "application/vnd.jupyter.widget-view+json": {
       "model_id": "",
       "version_major": 2,
       "version_minor": 0
      },
      "text/plain": [
       "FloatProgress(value=0.0, bar_style='info', description='Progress:', layout=Layout(height='25px', width='50%'),…"
      ]
     },
     "metadata": {},
     "output_type": "display_data"
    },
    {
     "name": "stdout",
     "output_type": "stream",
     "text": [
      " ---------- Show first 10 rows of time table  ----------\n",
      "+--------------------+----+---+----+-----+----+-------+\n",
      "|          start_time|hour|day|week|month|year|weekday|\n",
      "+--------------------+----+---+----+-----+----+-------+\n",
      "|2018-11-15 00:30:...|   0| 15|  46|   11|2018|      3|\n",
      "|2018-11-15 00:41:...|   0| 15|  46|   11|2018|      3|\n",
      "|2018-11-15 00:45:...|   0| 15|  46|   11|2018|      3|\n",
      "|2018-11-15 03:44:...|   3| 15|  46|   11|2018|      3|\n",
      "|2018-11-15 05:48:...|   5| 15|  46|   11|2018|      3|\n",
      "|2018-11-15 05:53:...|   5| 15|  46|   11|2018|      3|\n",
      "|2018-11-15 05:55:...|   5| 15|  46|   11|2018|      3|\n",
      "|2018-11-15 06:01:...|   6| 15|  46|   11|2018|      3|\n",
      "|2018-11-15 06:07:...|   6| 15|  46|   11|2018|      3|\n",
      "|2018-11-15 06:10:...|   6| 15|  46|   11|2018|      3|\n",
      "+--------------------+----+---+----+-----+----+-------+\n",
      "only showing top 10 rows"
     ]
    }
   ],
   "source": [
    "# create datetime column from original timestamp column\n",
    "# divide timestamp by 1000 to convert from milliseconds to seconds\n",
    "get_datetime = udf(lambda x: datetime.fromtimestamp(x / 1000), TimestampType())\n",
    "df = df.withColumn(\"start_time\", get_datetime(df.ts))\n",
    "\n",
    "# time table attributes: start_time, hour, day, week, month, year, weekday\n",
    "get_hour = udf(lambda x: x.hour)  \n",
    "df = df.withColumn(\"hour\", get_hour(df.start_time))   # create hour column\n",
    "\n",
    "get_day = udf(lambda x: x.day)\n",
    "df = df.withColumn(\"day\",  get_day(df.start_time))  # create day column\n",
    "\n",
    "get_week = udf(lambda x: x.isocalendar()[1])\n",
    "df = df.withColumn(\"week\", get_week(df.start_time))   # create week number column\n",
    "\n",
    "get_month = udf(lambda x: x.month)\n",
    "df = df.withColumn(\"month\", get_month(df.start_time))  # create month column\n",
    "\n",
    "get_year = udf(lambda x: x.year)\n",
    "df = df.withColumn(\"year\", get_year(df.start_time)) # create year column\n",
    "\n",
    "get_weekday = udf(lambda x: x.weekday())\n",
    "df = df.withColumn(\"weekday\", get_weekday(df.start_time))  # create weekday column\n",
    "\n",
    " # extract columns to create time table\n",
    "time_table = df.select(df.columns[-7:])\n",
    "\n",
    "# show first 10 rows of time table \n",
    "print(\" ---------- Show first 10 rows of time table  ----------\")\n",
    "time_table.show(10)"
   ]
  },
  {
   "cell_type": "code",
   "execution_count": 15,
   "metadata": {},
   "outputs": [
    {
     "data": {
      "application/vnd.jupyter.widget-view+json": {
       "model_id": "25a46e74c7f140e4855d3643bcdb2581",
       "version_major": 2,
       "version_minor": 0
      },
      "text/plain": [
       "VBox()"
      ]
     },
     "metadata": {},
     "output_type": "display_data"
    },
    {
     "data": {
      "application/vnd.jupyter.widget-view+json": {
       "model_id": "",
       "version_major": 2,
       "version_minor": 0
      },
      "text/plain": [
       "FloatProgress(value=0.0, bar_style='info', description='Progress:', layout=Layout(height='25px', width='50%'),…"
      ]
     },
     "metadata": {},
     "output_type": "display_data"
    }
   ],
   "source": [
    "# write time table to parquet files partitioned by year and month\n",
    "out_path_time = \"s3a://fzhang22-data-lake/parquet_files/notebook/time_table.parquet\"\n",
    "# if path.exists(out_path_time):\n",
    "time_table.write.parquet(path = out_path_time, \n",
    "                         partitionBy = (\"year\", \"month\"),\n",
    "                         mode = \"overwrite\")\n",
    "# else:\n",
    "#     time_table.write.parquet(path = out_path_time, \n",
    "#                              partitionBy = (\"year\", \"month\"),\n",
    "#                              mode = \"append\")"
   ]
  },
  {
   "cell_type": "code",
   "execution_count": 16,
   "metadata": {},
   "outputs": [
    {
     "data": {
      "application/vnd.jupyter.widget-view+json": {
       "model_id": "434340e574384f3eabda420f36a7e652",
       "version_major": 2,
       "version_minor": 0
      },
      "text/plain": [
       "VBox()"
      ]
     },
     "metadata": {},
     "output_type": "display_data"
    },
    {
     "data": {
      "application/vnd.jupyter.widget-view+json": {
       "model_id": "",
       "version_major": 2,
       "version_minor": 0
      },
      "text/plain": [
       "FloatProgress(value=0.0, bar_style='info', description='Progress:', layout=Layout(height='25px', width='50%'),…"
      ]
     },
     "metadata": {},
     "output_type": "display_data"
    },
    {
     "name": "stdout",
     "output_type": "stream",
     "text": [
      " ---------- Show first 10 rows of time table parquet file ----------\n",
      "+--------------------+----+---+----+-------+----+-----+\n",
      "|          start_time|hour|day|week|weekday|year|month|\n",
      "+--------------------+----+---+----+-------+----+-----+\n",
      "|2018-11-15 00:30:...|   0| 15|  46|      3|2018|   11|\n",
      "|2018-11-15 00:41:...|   0| 15|  46|      3|2018|   11|\n",
      "|2018-11-15 00:45:...|   0| 15|  46|      3|2018|   11|\n",
      "|2018-11-15 03:44:...|   3| 15|  46|      3|2018|   11|\n",
      "|2018-11-15 05:48:...|   5| 15|  46|      3|2018|   11|\n",
      "|2018-11-15 05:53:...|   5| 15|  46|      3|2018|   11|\n",
      "|2018-11-15 05:55:...|   5| 15|  46|      3|2018|   11|\n",
      "|2018-11-15 06:01:...|   6| 15|  46|      3|2018|   11|\n",
      "|2018-11-15 06:07:...|   6| 15|  46|      3|2018|   11|\n",
      "|2018-11-15 06:10:...|   6| 15|  46|      3|2018|   11|\n",
      "+--------------------+----+---+----+-------+----+-----+\n",
      "only showing top 10 rows"
     ]
    }
   ],
   "source": [
    "# read parquet file and check the first 10 rows of partitioned parquet dataframes\n",
    "df_time_parquet = spark.read.parquet(out_path_time)\n",
    "print(\" ---------- Show first 10 rows of time table parquet file ----------\")\n",
    "df_time_parquet.show(10)"
   ]
  },
  {
   "cell_type": "code",
   "execution_count": 17,
   "metadata": {},
   "outputs": [
    {
     "data": {
      "application/vnd.jupyter.widget-view+json": {
       "model_id": "3de05431a2614510aead74ec223734c7",
       "version_major": 2,
       "version_minor": 0
      },
      "text/plain": [
       "VBox()"
      ]
     },
     "metadata": {},
     "output_type": "display_data"
    },
    {
     "data": {
      "application/vnd.jupyter.widget-view+json": {
       "model_id": "",
       "version_major": 2,
       "version_minor": 0
      },
      "text/plain": [
       "FloatProgress(value=0.0, bar_style='info', description='Progress:', layout=Layout(height='25px', width='50%'),…"
      ]
     },
     "metadata": {},
     "output_type": "display_data"
    },
    {
     "name": "stdout",
     "output_type": "stream",
     "text": [
      " ---------- Show first 10 rows of songplays table  ----------\n",
      "+--------------------+------+-----+------------------+------------------+---------+--------------------+--------------------+\n",
      "|          start_time|userId|level|           song_id|         artist_id|sessionId|            location|           userAgent|\n",
      "+--------------------+------+-----+------------------+------------------+---------+--------------------+--------------------+\n",
      "|2018-11-27 22:35:...|    80| paid|SOQFYBD12AB0182188|ARAADXM1187FB3ECDB|      992|Portland-South Po...|\"Mozilla/5.0 (Mac...|\n",
      "|2018-11-14 05:06:...|    10| free|SOGDBUF12A8C140FAA|AR558FS1187FB45658|      484|Washington-Arling...|\"Mozilla/5.0 (Mac...|\n",
      "|2018-11-19 09:14:...|    24| paid|SOQFYBD12AB0182188|ARAADXM1187FB3ECDB|      672|Lake Havasu City-...|\"Mozilla/5.0 (Win...|\n",
      "|2018-11-19 09:14:...|    24| paid|SOGDBUF12A8C140FAA|AR558FS1187FB45658|      672|Lake Havasu City-...|\"Mozilla/5.0 (Win...|\n",
      "|2018-11-14 05:06:...|    10| free|SOQFYBD12AB0182188|ARAADXM1187FB3ECDB|      484|Washington-Arling...|\"Mozilla/5.0 (Mac...|\n",
      "|2018-11-27 22:35:...|    80| paid|SOGDBUF12A8C140FAA|AR558FS1187FB45658|      992|Portland-South Po...|\"Mozilla/5.0 (Mac...|\n",
      "+--------------------+------+-----+------------------+------------------+---------+--------------------+--------------------+"
     ]
    }
   ],
   "source": [
    "# read in song data to use for songplays table\n",
    "song_df = spark.read.parquet(out_path_songs)\n",
    "\n",
    "# inner join df with song_df by song's name\n",
    "cond = [df.song == song_df.title]\n",
    "df_join = df.join(song_df, cond, \"inner\")\n",
    "\n",
    "# extract columns from joined song and log datasets to create songplays table \n",
    "# songplays attributes: songplay_id, start_time, user_id, level, song_id, \n",
    "#                       artist_id, session_id, location, user_agent\n",
    "songplays_table = df_join.select(\"start_time\", \"userId\", \"level\", \"song_id\", \n",
    "                                 \"artist_id\", \"sessionId\", \"location\", \n",
    "                                 \"userAgent\").distinct()\n",
    "\n",
    "# create songplay_id column with auto_increment\n",
    "songplays_table.withColumn(\"songplay_id\", monotonically_increasing_id())\n",
    "\n",
    "# show first 10 rows of songplays table \n",
    "print(\" ---------- Show first 10 rows of songplays table  ----------\")\n",
    "songplays_table.show(10)"
   ]
  },
  {
   "cell_type": "code",
   "execution_count": 24,
   "metadata": {},
   "outputs": [
    {
     "data": {
      "application/vnd.jupyter.widget-view+json": {
       "model_id": "3883e45e3fb14d9684b68e6183c6f411",
       "version_major": 2,
       "version_minor": 0
      },
      "text/plain": [
       "VBox()"
      ]
     },
     "metadata": {},
     "output_type": "display_data"
    },
    {
     "data": {
      "application/vnd.jupyter.widget-view+json": {
       "model_id": "",
       "version_major": 2,
       "version_minor": 0
      },
      "text/plain": [
       "FloatProgress(value=0.0, bar_style='info', description='Progress:', layout=Layout(height='25px', width='50%'),…"
      ]
     },
     "metadata": {},
     "output_type": "display_data"
    }
   ],
   "source": [
    "songplays_table = songplays_table.withColumn(\"year\", get_year(df.start_time))\n",
    "songplays_table = songplays_table.withColumn(\"month\", get_month(df.start_time))\n",
    "\n",
    "# write songplays table to parquet files partitioned by year and month\n",
    "out_path_songplays = \"s3a://fzhang22-data-lake/parquet_files/notebook/songplays_table.parquet\"\n",
    "# if path.exists(out_path_songplays):\n",
    "songplays_table.write.parquet(path = out_path_songplays, \n",
    "                         partitionBy = (\"year\", \"month\"),\n",
    "                         mode = \"overwrite\")\n",
    "# else:\n",
    "#     time_table.write.parquet(path = out_path_songplays, \n",
    "#                              partitionBy = (\"year\", \"month\"),\n",
    "#                              mode = \"append\")\n"
   ]
  },
  {
   "cell_type": "code",
   "execution_count": 25,
   "metadata": {},
   "outputs": [
    {
     "data": {
      "application/vnd.jupyter.widget-view+json": {
       "model_id": "d2f444da416c4d8db694b19c7e5b15ab",
       "version_major": 2,
       "version_minor": 0
      },
      "text/plain": [
       "VBox()"
      ]
     },
     "metadata": {},
     "output_type": "display_data"
    },
    {
     "data": {
      "application/vnd.jupyter.widget-view+json": {
       "model_id": "",
       "version_major": 2,
       "version_minor": 0
      },
      "text/plain": [
       "FloatProgress(value=0.0, bar_style='info', description='Progress:', layout=Layout(height='25px', width='50%'),…"
      ]
     },
     "metadata": {},
     "output_type": "display_data"
    },
    {
     "name": "stdout",
     "output_type": "stream",
     "text": [
      " ---------- Show first 10 rows of songplays table  ----------\n",
      "+--------------------+------+-----+------------------+------------------+---------+--------------------+--------------------+----+-----+\n",
      "|          start_time|userId|level|           song_id|         artist_id|sessionId|            location|           userAgent|year|month|\n",
      "+--------------------+------+-----+------------------+------------------+---------+--------------------+--------------------+----+-----+\n",
      "|2018-11-27 22:35:...|    80| paid|SOQFYBD12AB0182188|ARAADXM1187FB3ECDB|      992|Portland-South Po...|\"Mozilla/5.0 (Mac...|2018|   11|\n",
      "|2018-11-14 05:06:...|    10| free|SOGDBUF12A8C140FAA|AR558FS1187FB45658|      484|Washington-Arling...|\"Mozilla/5.0 (Mac...|2018|   11|\n",
      "|2018-11-19 09:14:...|    24| paid|SOQFYBD12AB0182188|ARAADXM1187FB3ECDB|      672|Lake Havasu City-...|\"Mozilla/5.0 (Win...|2018|   11|\n",
      "|2018-11-19 09:14:...|    24| paid|SOGDBUF12A8C140FAA|AR558FS1187FB45658|      672|Lake Havasu City-...|\"Mozilla/5.0 (Win...|2018|   11|\n",
      "|2018-11-14 05:06:...|    10| free|SOQFYBD12AB0182188|ARAADXM1187FB3ECDB|      484|Washington-Arling...|\"Mozilla/5.0 (Mac...|2018|   11|\n",
      "|2018-11-27 22:35:...|    80| paid|SOGDBUF12A8C140FAA|AR558FS1187FB45658|      992|Portland-South Po...|\"Mozilla/5.0 (Mac...|2018|   11|\n",
      "+--------------------+------+-----+------------------+------------------+---------+--------------------+--------------------+----+-----+"
     ]
    }
   ],
   "source": [
    "# show first 10 rows of songplays table \n",
    "print(\" ---------- Show first 10 rows of songplays table  ----------\")\n",
    "songplays_table.show(10)"
   ]
  }
 ],
 "metadata": {
  "kernelspec": {
   "display_name": "Python 3",
   "language": "python",
   "name": "python3"
  },
  "language_info": {
   "codemirror_mode": {
    "name": "ipython",
    "version": 3
   },
   "file_extension": ".py",
   "mimetype": "text/x-python",
   "name": "python",
   "nbconvert_exporter": "python",
   "pygments_lexer": "ipython3",
   "version": "3.6.3"
  }
 },
 "nbformat": 4,
 "nbformat_minor": 4
}
